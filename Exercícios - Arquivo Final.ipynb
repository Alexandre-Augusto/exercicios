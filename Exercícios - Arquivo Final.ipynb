{
 "cells": [
  {
   "cell_type": "markdown",
   "metadata": {},
   "source": [
    "# Convexidade"
   ]
  },
  {
   "cell_type": "markdown",
   "metadata": {},
   "source": [
    "##### A duration de um título é uma medida quantitativa da exposição ao risco de um título em relação à mudanças das taxas de juros, sendo o preço de um título inversamente proporcional à sua taxa de juros.\n",
    "\n",
    "\n",
    "##### Macaulay duration representa o tempo médio para o detentor de um título receber, em valores presentes, o investimento inicial feito em um determinado título:\n",
    "##### $D$ = $\\Large\\frac{1}{P}\\sum\\limits_{t=1}^{T}$ $(\\Large\\frac{CF_t}{(1+y)^t}) t$\n",
    "\n",
    "##### Já a duration modificada pode ser obtida através da Macauley duration através da seguinte fórmula:\n",
    "\n",
    "##### $MD = \\Large\\frac{D}{1+y}$\n",
    "\n",
    "##### A Duration Modificada também pode ser definida como $\\Large\\frac{-1}{P}\\frac{dP}{dy}$ , ou seja, temos a mudança infinitesimal do preço do título em porcentagem dividido pela mudança infinitesimal do 'yield'\n",
    "\n",
    "##### Se um título tiver uma duration modificada de 5, isto significa que uma mudança de 1 bps no yield causa uma mudança de 0,05% no preço do título\n",
    "\n",
    "##### A duration modificada é uma aproximação de primeira ordem das mudanças de preços de um título dado uma mudança no yield. Desse modo, mudanças relativamente grandes do yield faz com que a duration modificada não seja muito precisa, uma vez que a mudança entre o yield e o preço não é uma relação linear\n",
    "\n",
    "##### Desse modo, usando a aproximação de segunda ordem (convexidade) que leva em consideração a relação não linear entre o yield e o  preço, o resultado é muito mais preciso quando há grandes mudanças do yield. \n",
    "\n",
    "##### Sendo assim, a convexidade leva em consideração a curvatura do preço de um título em função das mudanças do yield:\n",
    "##### $CX = \\Large\\frac{1}{2}\\frac{1}{P}\\frac{d^2P}{dy^2}$ , ou seja, a convexidade é a segunda derivada do preço em relação ao yield\n",
    "\n",
    "##### A mudança percentual nos preços poderá ser calculada como:\n",
    "##### $ \\Delta P \\approx  [-MD * \\Delta y + CX * \\Delta y^2] * P$"
   ]
  },
  {
   "cell_type": "markdown",
   "metadata": {},
   "source": [
    "# Teorema do Limite Central"
   ]
  },
  {
   "cell_type": "markdown",
   "metadata": {},
   "source": [
    "### Teorema Central do Limite (CLT para somas, neste caso)\n",
    "\n",
    "##### Seja $X_1, ...., X_n$ variáveis aleatórias $i.i.d$ com média $u$ e variância $\\sigma^2$\n",
    "##### A soma dessas variáveis aleatórias $S_n$  possui média $nu$ e variância $n\\sigma^2$\n",
    "##### Padronizando esta soma, de modo à obtermos uma nova variável aleatória $Z_n$ com média 0 e variância igual a 1:\n",
    "##### $Z_n = \\Large\\frac{(S_n - nu)}{\\sqrt{n}\\sigma}$\n",
    "##### E $Z$ sendo uma normal padrão com média 0 e variância igual a 1: $Z$ ~ $N(0, 1) $ \n",
    "##### No limite teremos:\n",
    "##### Para todo $z$ : $\\lim_{n\\rightarrow\\infty}$ $P(Zn \\le z) = P(Z \\lt z)$\n",
    "##### Ou seja, o  teorema central do limite estabelece que a soma devidamente normalizada de variáveis aleatórias independentes\n",
    "##### tendem à uma distribuição normal, independente da distribuição das variáveis aleatórias $X_1$, $X_2$, ... $X_n$\n",
    "\n",
    "##### Como resultado desta convergência, podemos tratar tanto $Z_n$ como $S_n$ como sendo variáveis aleatórias normais\n",
    "##### ou seja: $Z_n$ ~ $N(0, 1)$ e $S_n$ ~ $N(nu, n\\sigma^2)$\n",
    "\n",
    "##### Com o Teorema do Limite Central podemos afirmar que a distribuição da média amostral se aproxima de uma distribuição normal\n",
    "\n",
    "##### É possível exemplificar esta afirmação ao retirarmos diversas amostras suficientemente grandes de uma população com \n",
    "##### média $u$ e desvio padrão $\\sigma$ e evidenciarmos que a distribuição das médias amostrais será aproximadamente uma normal,\n",
    "##### como no código abaixo:"
   ]
  },
  {
   "cell_type": "code",
   "execution_count": 2,
   "metadata": {},
   "outputs": [],
   "source": [
    "# Importando as bibliotecas que serão utilizadas\n",
    "import numpy as np\n",
    "import matplotlib.pyplot as plt\n",
    "import pandas as pd\n",
    "#!pip install yfinance\n",
    "import yfinance as yf\n"
   ]
  },
  {
   "cell_type": "code",
   "execution_count": 3,
   "metadata": {},
   "outputs": [],
   "source": [
    "# Criando uma função (a partir da lambda function) que retorna a média de uma distribuição uniforme\n",
    "media_uniforme = lambda: np.mean(np.random.uniform(0, 1, size=100))\n",
    "\n",
    "# Criando uma lista com os valores da média de 10000 amostras de tamanho 100 \n",
    "valores = [media_uniforme() for amostra in range(10_000)]"
   ]
  },
  {
   "cell_type": "code",
   "execution_count": 4,
   "metadata": {},
   "outputs": [
    {
     "data": {
      "text/plain": [
       "(array([  1.,   1.,   1.,   3.,   5.,   8.,  13.,  32.,  38.,  65., 108.,\n",
       "        158., 218., 278., 314., 381., 504., 614., 641., 770., 744., 759.,\n",
       "        745., 688., 614., 546., 422., 377., 277., 218., 151., 105.,  79.,\n",
       "         46.,  34.,  23.,   5.,   9.,   4.,   1.]),\n",
       " array([0.38533071, 0.39078921, 0.3962477 , 0.40170619, 0.40716468,\n",
       "        0.41262317, 0.41808166, 0.42354016, 0.42899865, 0.43445714,\n",
       "        0.43991563, 0.44537412, 0.45083261, 0.45629111, 0.4617496 ,\n",
       "        0.46720809, 0.47266658, 0.47812507, 0.48358356, 0.48904206,\n",
       "        0.49450055, 0.49995904, 0.50541753, 0.51087602, 0.51633451,\n",
       "        0.521793  , 0.5272515 , 0.53270999, 0.53816848, 0.54362697,\n",
       "        0.54908546, 0.55454395, 0.56000245, 0.56546094, 0.57091943,\n",
       "        0.57637792, 0.58183641, 0.5872949 , 0.5927534 , 0.59821189,\n",
       "        0.60367038]),\n",
       " <a list of 40 Patch objects>)"
      ]
     },
     "execution_count": 4,
     "metadata": {},
     "output_type": "execute_result"
    },
    {
     "data": {
      "image/png": "[encoded data removed]",
      "text/plain": [
       "<Figure size 432x288 with 1 Axes>"
      ]
     },
     "metadata": {
      "needs_background": "light"
     },
     "output_type": "display_data"
    }
   ],
   "source": [
    "plt.hist(valores, bins=40) #a distribuição da média amostral se aproxima de uma normal quando a amostra é grande"
   ]
  },
  {
   "cell_type": "code",
   "execution_count": 5,
   "metadata": {},
   "outputs": [],
   "source": [
    "#Retirando amostras de uma popupação que segue outra distribuição não altera o resultado:\n",
    "media_binomial = lambda: np.mean(np.random.binomial(100, 0.5, size=1000)) # utilizando a distribuição binomial agora\n",
    "\n",
    "# Criando uma lista com os valores da média de 10000 amostras de tamanho 100 \n",
    "valores2 = [media_binomial() for amostra in range(10_000)]"
   ]
  },
  {
   "cell_type": "code",
   "execution_count": 6,
   "metadata": {},
   "outputs": [
    {
     "data": {
      "text/plain": [
       "(array([  4.,   2.,   8.,   9.,  24.,  25.,  54.,  68.,  98., 117., 194.,\n",
       "        300., 321., 342., 480., 551., 578., 665., 698., 722., 689., 662.,\n",
       "        622., 560., 452., 407., 358., 265., 204., 161., 135.,  69.,  56.,\n",
       "         40.,  22.,  14.,  15.,   3.,   4.,   2.]),\n",
       " array([49.445   , 49.473175, 49.50135 , 49.529525, 49.5577  , 49.585875,\n",
       "        49.61405 , 49.642225, 49.6704  , 49.698575, 49.72675 , 49.754925,\n",
       "        49.7831  , 49.811275, 49.83945 , 49.867625, 49.8958  , 49.923975,\n",
       "        49.95215 , 49.980325, 50.0085  , 50.036675, 50.06485 , 50.093025,\n",
       "        50.1212  , 50.149375, 50.17755 , 50.205725, 50.2339  , 50.262075,\n",
       "        50.29025 , 50.318425, 50.3466  , 50.374775, 50.40295 , 50.431125,\n",
       "        50.4593  , 50.487475, 50.51565 , 50.543825, 50.572   ]),\n",
       " <a list of 40 Patch objects>)"
      ]
     },
     "execution_count": 6,
     "metadata": {},
     "output_type": "execute_result"
    },
    {
     "data": {
      "image/png": "[encoded data removed]",
      "text/plain": [
       "<Figure size 432x288 with 1 Axes>"
      ]
     },
     "metadata": {
      "needs_background": "light"
     },
     "output_type": "display_data"
    }
   ],
   "source": [
    "plt.hist(valores2, bins=40) #a distribuição da média amostral continua tendendo a uma normal mesmo usando outra distribuição"
   ]
  },
  {
   "cell_type": "markdown",
   "metadata": {},
   "source": [
    "# Fronteira Eficiente de Markowitz"
   ]
  },
  {
   "cell_type": "code",
   "execution_count": 7,
   "metadata": {},
   "outputs": [
    {
     "name": "stdout",
     "output_type": "stream",
     "text": [
      "[*********************100%***********************]  2 of 2 completed\n"
     ]
    },
    {
     "data": {
      "text/html": [
       "<div>\n",
       "<style scoped>\n",
       "    .dataframe tbody tr th:only-of-type {\n",
       "        vertical-align: middle;\n",
       "    }\n",
       "\n",
       "    .dataframe tbody tr th {\n",
       "        vertical-align: top;\n",
       "    }\n",
       "\n",
       "    .dataframe thead th {\n",
       "        text-align: right;\n",
       "    }\n",
       "</style>\n",
       "<table border=\"1\" class=\"dataframe\">\n",
       "  <thead>\n",
       "    <tr style=\"text-align: right;\">\n",
       "      <th></th>\n",
       "      <th>AAPL</th>\n",
       "      <th>AMZN</th>\n",
       "    </tr>\n",
       "    <tr>\n",
       "      <th>Date</th>\n",
       "      <th></th>\n",
       "      <th></th>\n",
       "    </tr>\n",
       "  </thead>\n",
       "  <tbody>\n",
       "    <tr>\n",
       "      <th>2017-01-03</th>\n",
       "      <td>29.037500</td>\n",
       "      <td>753.669983</td>\n",
       "    </tr>\n",
       "    <tr>\n",
       "      <th>2017-01-04</th>\n",
       "      <td>29.004999</td>\n",
       "      <td>757.179993</td>\n",
       "    </tr>\n",
       "    <tr>\n",
       "      <th>2017-01-05</th>\n",
       "      <td>29.152500</td>\n",
       "      <td>780.450012</td>\n",
       "    </tr>\n",
       "    <tr>\n",
       "      <th>2017-01-06</th>\n",
       "      <td>29.477501</td>\n",
       "      <td>795.989990</td>\n",
       "    </tr>\n",
       "    <tr>\n",
       "      <th>2017-01-09</th>\n",
       "      <td>29.747499</td>\n",
       "      <td>796.919983</td>\n",
       "    </tr>\n",
       "    <tr>\n",
       "      <th>...</th>\n",
       "      <td>...</td>\n",
       "      <td>...</td>\n",
       "    </tr>\n",
       "    <tr>\n",
       "      <th>2022-01-26</th>\n",
       "      <td>159.690002</td>\n",
       "      <td>2777.449951</td>\n",
       "    </tr>\n",
       "    <tr>\n",
       "      <th>2022-01-27</th>\n",
       "      <td>159.220001</td>\n",
       "      <td>2792.750000</td>\n",
       "    </tr>\n",
       "    <tr>\n",
       "      <th>2022-01-28</th>\n",
       "      <td>170.330002</td>\n",
       "      <td>2879.560059</td>\n",
       "    </tr>\n",
       "    <tr>\n",
       "      <th>2022-01-31</th>\n",
       "      <td>174.779999</td>\n",
       "      <td>2991.469971</td>\n",
       "    </tr>\n",
       "    <tr>\n",
       "      <th>2022-02-01</th>\n",
       "      <td>174.610001</td>\n",
       "      <td>3023.870117</td>\n",
       "    </tr>\n",
       "  </tbody>\n",
       "</table>\n",
       "<p>1280 rows × 2 columns</p>\n",
       "</div>"
      ],
      "text/plain": [
       "                  AAPL         AMZN\n",
       "Date                               \n",
       "2017-01-03   29.037500   753.669983\n",
       "2017-01-04   29.004999   757.179993\n",
       "2017-01-05   29.152500   780.450012\n",
       "2017-01-06   29.477501   795.989990\n",
       "2017-01-09   29.747499   796.919983\n",
       "...                ...          ...\n",
       "2022-01-26  159.690002  2777.449951\n",
       "2022-01-27  159.220001  2792.750000\n",
       "2022-01-28  170.330002  2879.560059\n",
       "2022-01-31  174.779999  2991.469971\n",
       "2022-02-01  174.610001  3023.870117\n",
       "\n",
       "[1280 rows x 2 columns]"
      ]
     },
     "execution_count": 7,
     "metadata": {},
     "output_type": "execute_result"
    }
   ],
   "source": [
    "# Obtendo o preço de fechamento das ações da AAPL e da AMZN do dia 01-01-2017 (série começará apenas\n",
    "# no dia 03) até 01-02-2022\n",
    "precos = yf.download('AAPL AMZN', start='2017-01-01', end='2022-02-02')['Close']\n",
    "precos"
   ]
  },
  {
   "cell_type": "code",
   "execution_count": 8,
   "metadata": {},
   "outputs": [],
   "source": [
    "#Obtendo o retorno em log\n",
    "retorno_ln = (np.log(precos) -   np.log(precos).shift(1))\n",
    "retorno_ln = retorno_ln.dropna() # A primeira linha fica nula ao calcularmos o retorno, logo o uso do .dropna()"
   ]
  },
  {
   "cell_type": "code",
   "execution_count": 9,
   "metadata": {},
   "outputs": [
    {
     "data": {
      "text/plain": [
       "0      0.00\n",
       "1      0.01\n",
       "2      0.02\n",
       "3      0.03\n",
       "4      0.04\n",
       "       ... \n",
       "96     0.96\n",
       "97     0.97\n",
       "98     0.98\n",
       "99     0.99\n",
       "100    1.00\n",
       "Length: 101, dtype: float64"
      ]
     },
     "execution_count": 9,
     "metadata": {},
     "output_type": "execute_result"
    }
   ],
   "source": [
    "# pandas series com o peso do ativo para ser calculado em diferentes carteiras\n",
    "# como só há dois ativos, o peso do outro ativo será (1-peso)\n",
    "pesos = pd.Series(list(range(0, 101)))/100\n",
    "pesos"
   ]
  },
  {
   "cell_type": "code",
   "execution_count": 10,
   "metadata": {},
   "outputs": [],
   "source": [
    "# Criando uma função que calcula o retorno de uma carteira com dois ativos\n",
    "def retorno_carteira(retorno, peso):\n",
    "    retorno_total = retorno['AAPL'].mean()*252 * peso + retorno['AMZN'].mean()*252 * (1-peso)\n",
    "    \n",
    "    return retorno_total\n",
    "    \n",
    "    \n",
    "# Criando uma função que calcula a volatilidade de uma carteira com dois ativos\n",
    "def vol_carteira(retorno, peso):\n",
    "    vol_total = (\n",
    "                peso**2 * np.var(retorno['AAPL']) + \n",
    "                (1-peso)**2 * np.var(retorno['AMZN']) + \n",
    "                2*peso*(1-peso)*np.std(retorno['AAPL'])*np.std(retorno['AMZN']) * retorno.dropna().corr().iloc[0, 1] \n",
    "                )**(1/2)      * 252**(1/2)   \n",
    "    \n",
    "    return vol_total"
   ]
  },
  {
   "cell_type": "code",
   "execution_count": 11,
   "metadata": {},
   "outputs": [],
   "source": [
    "# Criando listas vazias dos retornos e das volatilidades\n",
    "retorno_lista = []\n",
    "vol_lista = []\n",
    "\n",
    "# Calculando o retorno e a volatilidade das carteiras com diferentes pesos\n",
    "for peso in pesos:\n",
    "    retorno_lista.append(retorno_carteira(retorno_ln, peso))\n",
    "    vol_lista.append(vol_carteira(retorno_ln, peso))"
   ]
  },
  {
   "cell_type": "code",
   "execution_count": 12,
   "metadata": {},
   "outputs": [
    {
     "data": {
      "text/html": [
       "<div>\n",
       "<style scoped>\n",
       "    .dataframe tbody tr th:only-of-type {\n",
       "        vertical-align: middle;\n",
       "    }\n",
       "\n",
       "    .dataframe tbody tr th {\n",
       "        vertical-align: top;\n",
       "    }\n",
       "\n",
       "    .dataframe thead th {\n",
       "        text-align: right;\n",
       "    }\n",
       "</style>\n",
       "<table border=\"1\" class=\"dataframe\">\n",
       "  <thead>\n",
       "    <tr style=\"text-align: right;\">\n",
       "      <th></th>\n",
       "      <th>Retorno</th>\n",
       "      <th>Volatilidade</th>\n",
       "    </tr>\n",
       "  </thead>\n",
       "  <tbody>\n",
       "    <tr>\n",
       "      <th>0</th>\n",
       "      <td>0.273740</td>\n",
       "      <td>0.295047</td>\n",
       "    </tr>\n",
       "    <tr>\n",
       "      <th>1</th>\n",
       "      <td>0.274537</td>\n",
       "      <td>0.294056</td>\n",
       "    </tr>\n",
       "    <tr>\n",
       "      <th>2</th>\n",
       "      <td>0.275334</td>\n",
       "      <td>0.293084</td>\n",
       "    </tr>\n",
       "    <tr>\n",
       "      <th>3</th>\n",
       "      <td>0.276132</td>\n",
       "      <td>0.292131</td>\n",
       "    </tr>\n",
       "    <tr>\n",
       "      <th>4</th>\n",
       "      <td>0.276929</td>\n",
       "      <td>0.291197</td>\n",
       "    </tr>\n",
       "    <tr>\n",
       "      <th>...</th>\n",
       "      <td>...</td>\n",
       "      <td>...</td>\n",
       "    </tr>\n",
       "    <tr>\n",
       "      <th>96</th>\n",
       "      <td>0.350274</td>\n",
       "      <td>0.300724</td>\n",
       "    </tr>\n",
       "    <tr>\n",
       "      <th>97</th>\n",
       "      <td>0.351072</td>\n",
       "      <td>0.301831</td>\n",
       "    </tr>\n",
       "    <tr>\n",
       "      <th>98</th>\n",
       "      <td>0.351869</td>\n",
       "      <td>0.302956</td>\n",
       "    </tr>\n",
       "    <tr>\n",
       "      <th>99</th>\n",
       "      <td>0.352666</td>\n",
       "      <td>0.304099</td>\n",
       "    </tr>\n",
       "    <tr>\n",
       "      <th>100</th>\n",
       "      <td>0.353463</td>\n",
       "      <td>0.305258</td>\n",
       "    </tr>\n",
       "  </tbody>\n",
       "</table>\n",
       "<p>101 rows × 2 columns</p>\n",
       "</div>"
      ],
      "text/plain": [
       "      Retorno  Volatilidade\n",
       "0    0.273740      0.295047\n",
       "1    0.274537      0.294056\n",
       "2    0.275334      0.293084\n",
       "3    0.276132      0.292131\n",
       "4    0.276929      0.291197\n",
       "..        ...           ...\n",
       "96   0.350274      0.300724\n",
       "97   0.351072      0.301831\n",
       "98   0.351869      0.302956\n",
       "99   0.352666      0.304099\n",
       "100  0.353463      0.305258\n",
       "\n",
       "[101 rows x 2 columns]"
      ]
     },
     "execution_count": 12,
     "metadata": {},
     "output_type": "execute_result"
    }
   ],
   "source": [
    "# pandas series com o retorno da carteira para os diferentes pesos de cada ativo\n",
    "s1 = pd.Series(retorno_lista)\n",
    "\n",
    "# pandas series com a volatilidade da carteira para os diferentes pesos de cada ativo\n",
    "s2 = pd.Series(vol_lista)\n",
    "\n",
    "# Concatenando as duas séries, para obter um dataframe com duas colunas: uma com o retorno e a outra com a volatilidade\n",
    "# da carteira\n",
    "df = pd.concat([s1, s2], axis=1)\n",
    "\n",
    "# Renomeando as colunas\n",
    "df = df.rename(columns={0:'Retorno', 1: 'Volatilidade'})\n",
    "df"
   ]
  },
  {
   "cell_type": "code",
   "execution_count": 13,
   "metadata": {
    "scrolled": true
   },
   "outputs": [
    {
     "data": {
      "text/plain": [
       "Text(0, 0.5, 'Retorno')"
      ]
     },
     "execution_count": 13,
     "metadata": {},
     "output_type": "execute_result"
    },
    {
     "data": {
      "image/png": "[encoded data removed]",
      "text/plain": [
       "<Figure size 432x288 with 1 Axes>"
      ]
     },
     "metadata": {
      "needs_background": "light"
     },
     "output_type": "display_data"
    }
   ],
   "source": [
    "# Gráfico da fronteira de markowitz:\n",
    "plt.plot( df['Volatilidade'], df['Retorno'])\n",
    "plt.title('Fronteira Eficiente de Markowitz')\n",
    "plt.xlabel('Volatilidade')\n",
    "plt.ylabel('Retorno')"
   ]
  }
 ],
 "metadata": {
  "kernelspec": {
   "display_name": "Python 3",
   "language": "python",
   "name": "python3"
  },
  "language_info": {
   "codemirror_mode": {
    "name": "ipython",
    "version": 3
   },
   "file_extension": ".py",
   "mimetype": "text/x-python",
   "name": "python",
   "nbconvert_exporter": "python",
   "pygments_lexer": "ipython3",
   "version": "3.7.6"
  }
 },
 "nbformat": 4,
 "nbformat_minor": 4
}
